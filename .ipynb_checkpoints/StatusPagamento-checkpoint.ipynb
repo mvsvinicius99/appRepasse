{
 "cells": [
  {
   "cell_type": "code",
   "execution_count": 16,
   "id": "4347b01d-7263-4d4b-8ffd-cb5168808182",
   "metadata": {},
   "outputs": [],
   "source": [
    "import pandas as pd\n",
    "import numpy as np\n",
    "import streamlit as st\n",
    "import plotly.express as px\n",
    "import io\n",
    "from datetime import timedelta\n",
    "from pandas.tseries.offsets import CustomBusinessDay"
   ]
  },
  {
   "cell_type": "code",
   "execution_count": 8,
   "id": "d58d5792-9bae-4917-98cb-96b27ca2da52",
   "metadata": {},
   "outputs": [],
   "source": [
    "path_faturados = r'D:\\Users\\Vinicius Santos\\OneDrive\\SERVIDOR\\FATURAMENTO-\\05 - FATURAMENTO GERAL\\2023 Banco de Emissões.xlsm'\n",
    "df_faturados = pd.read_excel(path_faturados, header=1, dtype={'Série': str, 'Nº Doc': str, 'NFS': str})\n",
    "df_faturados['Doc'] = np.where(df_faturados['Série'] == '1', df_faturados['NFS'], df_faturados['Nº Doc']).astype(str)\n",
    "df_faturados['Série'] = np.where(df_faturados['Série'] == '1', '0', df_faturados['Série']).astype(str)\n",
    "df_faturados['Entrega'] = np.where(df_faturados['Recebedor'].isna() | (df_faturados['Recebedor'] == ''),\n",
    "                                   df_faturados['Destinatário'], df_faturados['Recebedor'])\n",
    "df_faturados['Mun_Entrega'] = np.where(df_faturados['Recebedor'].isna() | (df_faturados['Recebedor'] == ''),\n",
    "                                       df_faturados['Dest. Cidade'], df_faturados['Rec. Cidade'])"
   ]
  },
  {
   "cell_type": "code",
   "execution_count": 4,
   "id": "a6ab2d7d-fcb5-4233-afb1-d7b7ff3c50f7",
   "metadata": {},
   "outputs": [],
   "source": [
    "path_pagos = r'D:\\Users\\Vinicius Santos\\OneDrive\\SERVIDOR\\PAGAMENTO\\2024-DOCUMENTOS PAGOS.xlsm'\n",
    "df_pagos = pd.read_excel(path_pagos, header=1, dtype={'Serie': str, 'CT-e/NFS': str})"
   ]
  },
  {
   "cell_type": "code",
   "execution_count": 11,
   "id": "36fbda1a-a3f7-440f-886c-c3d942698eb4",
   "metadata": {},
   "outputs": [],
   "source": [
    "df_pagamento = pd.merge(df_faturados, df_pagos, left_on=['Série','Doc'], right_on=['Serie','CT-e/NFS'], how='left')"
   ]
  },
  {
   "cell_type": "code",
   "execution_count": 20,
   "id": "75a6ad95-f748-4933-9a9a-f2a294eb5c3d",
   "metadata": {},
   "outputs": [],
   "source": [
    "def calcular_vencimento_sem_feriados(data_emissao):\n",
    "    \"\"\"\n",
    "    Calcula a data de pagamento com prazo de 60 dias após a emissão,\n",
    "    programado para o 1º dia útil do mês subsequente (sem considerar feriados).\n",
    "    \"\"\"\n",
    "    # Calcula a data de vencimento inicial (60 dias após a emissão)\n",
    "    vencimento_inicial = data_emissao + timedelta(days=60)\n",
    "\n",
    "    # Calcula o primeiro dia do mês seguinte ao vencimento inicial\n",
    "    proximo_mes = vencimento_inicial.month + 1\n",
    "    proximo_ano = vencimento_inicial.year\n",
    "    if proximo_mes > 12:\n",
    "        proximo_mes = 1\n",
    "        proximo_ano += 1\n",
    "    primeiro_dia_proximo_mes = pd.Timestamp(f'{proximo_ano}-{proximo_mes}-01')\n",
    "\n",
    "    # Ajusta para o primeiro dia útil (ignorando feriados)\n",
    "    data_pagamento = primeiro_dia_proximo_mes\n",
    "    while data_pagamento.weekday() >= 5:  # 5 = Sábado, 6 = Domingo\n",
    "        data_pagamento += timedelta(days=1)\n",
    "    return data_pagamento\n",
    "\n",
    "# Supondo que você já tenha o DataFrame df_faturamento com a coluna 'Emissao'\n",
    "df_pagamento['Vencimento'] = df_pagamento['Dt. Emissão'].apply(calcular_vencimento_sem_feriados)"
   ]
  },
  {
   "cell_type": "code",
   "execution_count": 25,
   "id": "5c3014ff-680d-41c8-867b-3cd67da3c83b",
   "metadata": {},
   "outputs": [],
   "source": [
    "\n",
    "df_pagamento['Status_Pagamento'] = np.where(\n",
    "    df_pagamento['Valor Pago'].isna() & (pd.Timestamp.now() < df_pagamento['Vencimento']),\n",
    "    'Pendente',\n",
    "    np.where(df_pagamento['Valor Pago'].isna(), \"À vencer\", \"Pago\")\n",
    ")"
   ]
  },
  {
   "cell_type": "code",
   "execution_count": null,
   "id": "217cfc74-fa30-4011-84b0-b054c13913be",
   "metadata": {},
   "outputs": [],
   "source": [
    "df_pagamento = df_pagamento['Doc', 'Dt. Emissão', 'NFe', 'Remetente', 'Rem. Cidade',\n",
    "       'Destinatário', 'Dest. Cidade', 'Recebedor', 'Rec. Cidade', 'Total',\n",
    "       'Frete', 'Pedágio', 'Peso Bruto', 'Observação',\n",
    "       'Placa', 'Status', 'Tomador', 'Fatura', 'Entrega', 'Mun_Entrega', 'Serie', 'Vencimento',\n",
    "       'Valor Pago', 'Dt. Repasse', 'Obs']\n",
    "display(df_pagamento)"
   ]
  }
 ],
 "metadata": {
  "kernelspec": {
   "display_name": "Python 3 (ipykernel)",
   "language": "python",
   "name": "python3"
  },
  "language_info": {
   "codemirror_mode": {
    "name": "ipython",
    "version": 3
   },
   "file_extension": ".py",
   "mimetype": "text/x-python",
   "name": "python",
   "nbconvert_exporter": "python",
   "pygments_lexer": "ipython3",
   "version": "3.10.6"
  }
 },
 "nbformat": 4,
 "nbformat_minor": 5
}
